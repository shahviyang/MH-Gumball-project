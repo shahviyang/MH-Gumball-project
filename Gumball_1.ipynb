{
 "cells": [
  {
   "cell_type": "code",
   "execution_count": null,
   "metadata": {
    "colab": {
     "base_uri": "https://localhost:8080/"
    },
    "executionInfo": {
     "elapsed": 14843,
     "status": "ok",
     "timestamp": 1626037397614,
     "user": {
      "displayName": "Viyang Shah",
      "photoUrl": "https://lh3.googleusercontent.com/a-/AOh14Gilc2SMxrkT84q4-wo9mbWFxeeNMXHGX5p_nd_9=s64",
      "userId": "03771651943152994273"
     },
     "user_tz": 300
    },
    "id": "-nyo9obvYNro",
    "outputId": "5b28ddd3-9f5f-4caf-9029-654d88b6e8dd"
   },
   "outputs": [],
   "source": [
    "# !pip install dash"
   ]
  },
  {
   "cell_type": "code",
   "execution_count": null,
   "metadata": {},
   "outputs": [],
   "source": [
    "'''\n",
    "import numpy as np\n",
    "import matplotlib.pyplot as plt\n",
    "\n",
    "\n",
    "#normal pdf function\n",
    "def normal_dist(lst, mean , sd):\n",
    "    prob_density = (np.pi*sd) * np.exp(-0.5*((lst-mean)/sd)**2)\n",
    "    return prob_density\n",
    "\n",
    "all_guesses = []\n",
    "\n",
    "task = input(\"What would you like to do? \")\n",
    "\n",
    "while task != \"stop\":\n",
    "    if task == \"guess\":\n",
    "        try:\n",
    "            guess = int(input(\"What's your guess? \"))\n",
    "            all_guesses.append(guess)\n",
    "        except:\n",
    "            print(\"Please enter a valid whole number\")\n",
    "    elif task == \"histogram\":\n",
    "        plt.hist(all_guesses)\n",
    "        plt.show\n",
    "    elif task == \"graph pdf\":\n",
    "        mean = np.mean(all_guesses)\n",
    "        sd = np.std(all_guesses)\n",
    "\n",
    "        #Apply function to the data.\n",
    "        pdf = normal_dist(all_guesses,mean,sd)\n",
    " \n",
    "        #Plotting the Results\n",
    "        plt.plot(all_guesses,pdf , color = 'red')\n",
    "        plt.xlabel('Data points')\n",
    "        plt.ylabel('Probability Density')\n",
    "    else:\n",
    "        print(\"Please enter a valid command.\")\n",
    "\n",
    "    task = input(\"What would you like to do? \")\n",
    "'''"
   ]
  },
  {
   "cell_type": "code",
   "execution_count": 1,
   "metadata": {
    "id": "lu2IkjsnxyiG"
   },
   "outputs": [],
   "source": [
    "# Here are all the imports needed for the web-app dashboard.\n",
    "import pandas as pd\n",
    "import dash\n",
    "import dash_html_components as html\n",
    "import dash_core_components as dcc\n",
    "from dash.dependencies import Input, Output, State\n",
    "from dash.exceptions import PreventUpdate\n",
    "#from jupyter_dash import JupyterDash\n",
    "import plotly.express as px\n",
    "import matplotlib.pyplot as plt\n",
    "#import yfinance as yf"
   ]
  },
  {
   "cell_type": "code",
   "execution_count": 2,
   "metadata": {
    "id": "-z3-pXdBxyiG"
   },
   "outputs": [],
   "source": [
    "app = dash.Dash(__name__)\n",
    "\n",
    "# Clear the layout and do not display exception till callback gets executed\n",
    "app.config.suppress_callback_exceptions = True"
   ]
  },
  {
   "cell_type": "code",
   "execution_count": 3,
   "metadata": {
    "colab": {
     "base_uri": "https://localhost:8080/"
    },
    "executionInfo": {
     "elapsed": 60,
     "status": "ok",
     "timestamp": 1626037406729,
     "user": {
      "displayName": "Viyang Shah",
      "photoUrl": "https://lh3.googleusercontent.com/a-/AOh14Gilc2SMxrkT84q4-wo9mbWFxeeNMXHGX5p_nd_9=s64",
      "userId": "03771651943152994273"
     },
     "user_tz": 300
    },
    "id": "9-q-FGd-xyiH",
    "outputId": "3515ee03-5ceb-43bc-b5cc-ea51436d226f"
   },
   "outputs": [],
   "source": [
    "# Making guesses empty pandas series\n",
    "all_guesses = pd.Series(dtype='float')"
   ]
  },
  {
   "cell_type": "code",
   "execution_count": 4,
   "metadata": {
    "id": "JKsNLFtlxyiI"
   },
   "outputs": [],
   "source": [
    "app.layout = html.Div(\n",
    "    children=[dcc.Store(id='guess', storage_type='local'),\n",
    "        html.H1('Gumball Guess',  style={'textAlign': 'center', 'color':'#C33C54','font-size':36}),\n",
    "        html.Div([html.Div(\n",
    "            [html.Div([\n",
    "                html.H2('Enter your guess here: ',\n",
    "                style={'margin-right': '2em'})]),\n",
    "                html.Div([dcc.Input(id='input-guess',value=None,type='number',style={'height':'50px','font-size':35})],\n",
    "                style={}),]),\n",
    "                html.Div([], id='hist-plot')])])\n",
    "\n",
    "@app.callback(Output('hist-plot', 'figure'),\n",
    "              Input('input-guess', 'value'),\n",
    "              State('input-guess', 'data'))\n",
    "def graph_guesses(guess, data):\n",
    "    if guess is None:\n",
    "        raise PreventUpdate\n",
    "    all_guesses.append(data)\n",
    "    dist_fig = plt.hist(all_guesses)\n",
    "    return dcc.Graph(id='hist-plot',fig=dist_fig)"
   ]
  },
  {
   "cell_type": "code",
   "execution_count": null,
   "metadata": {
    "colab": {
     "base_uri": "https://localhost:8080/"
    },
    "executionInfo": {
     "elapsed": 10191,
     "status": "ok",
     "timestamp": 1626037484498,
     "user": {
      "displayName": "Viyang Shah",
      "photoUrl": "https://lh3.googleusercontent.com/a-/AOh14Gilc2SMxrkT84q4-wo9mbWFxeeNMXHGX5p_nd_9=s64",
      "userId": "03771651943152994273"
     },
     "user_tz": 300
    },
    "id": "knXBl0rUxyiI",
    "outputId": "aa5dca74-b6b3-4185-d167-9b9990df1cfb"
   },
   "outputs": [
    {
     "name": "stdout",
     "output_type": "stream",
     "text": [
      "Dash is running on http://127.0.0.1:8050/\n",
      "\n",
      " * Serving Flask app \"__main__\" (lazy loading)\n",
      " * Environment: production\n",
      "   WARNING: This is a development server. Do not use it in a production deployment.\n",
      "   Use a production WSGI server instead.\n",
      " * Debug mode: off\n"
     ]
    }
   ],
   "source": [
    "# Run the app\n",
    "if __name__ == '__main__':\n",
    "    app.run_server()\n",
    "# debug=True"
   ]
  },
  {
   "cell_type": "code",
   "execution_count": null,
   "metadata": {
    "id": "cygOnIgwxyiJ"
   },
   "outputs": [],
   "source": []
  }
 ],
 "metadata": {
  "colab": {
   "collapsed_sections": [],
   "name": "Gumball.ipynb",
   "provenance": []
  },
  "kernelspec": {
   "display_name": "Python 3",
   "language": "python",
   "name": "python3"
  },
  "language_info": {
   "codemirror_mode": {
    "name": "ipython",
    "version": 3
   },
   "file_extension": ".py",
   "mimetype": "text/x-python",
   "name": "python",
   "nbconvert_exporter": "python",
   "pygments_lexer": "ipython3",
   "version": "3.7.6"
  }
 },
 "nbformat": 4,
 "nbformat_minor": 1
}
